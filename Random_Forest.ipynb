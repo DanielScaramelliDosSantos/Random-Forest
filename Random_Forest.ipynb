{
 "cells": [
  {
   "cell_type": "markdown",
   "id": "9379e4e3",
   "metadata": {},
   "source": [
    "## Arquivo e Biblioteca"
   ]
  },
  {
   "cell_type": "code",
   "execution_count": 15,
   "id": "18b57eec",
   "metadata": {},
   "outputs": [],
   "source": [
    "import pandas as pd\n",
    "import numpy as np"
   ]
  },
  {
   "cell_type": "code",
   "execution_count": 16,
   "id": "576b00ae",
   "metadata": {},
   "outputs": [],
   "source": [
    "df = pd.read_csv('car_evaluation.csv')"
   ]
  },
  {
   "cell_type": "code",
   "execution_count": 17,
   "id": "294a1db0",
   "metadata": {},
   "outputs": [
    {
     "data": {
      "text/html": [
       "<div>\n",
       "<style scoped>\n",
       "    .dataframe tbody tr th:only-of-type {\n",
       "        vertical-align: middle;\n",
       "    }\n",
       "\n",
       "    .dataframe tbody tr th {\n",
       "        vertical-align: top;\n",
       "    }\n",
       "\n",
       "    .dataframe thead th {\n",
       "        text-align: right;\n",
       "    }\n",
       "</style>\n",
       "<table border=\"1\" class=\"dataframe\">\n",
       "  <thead>\n",
       "    <tr style=\"text-align: right;\">\n",
       "      <th></th>\n",
       "      <th>buying price</th>\n",
       "      <th>maintenance cost</th>\n",
       "      <th>number of doors</th>\n",
       "      <th>number of persons</th>\n",
       "      <th>car_boot</th>\n",
       "      <th>safety</th>\n",
       "      <th>decision</th>\n",
       "    </tr>\n",
       "  </thead>\n",
       "  <tbody>\n",
       "    <tr>\n",
       "      <th>0</th>\n",
       "      <td>vhigh</td>\n",
       "      <td>vhigh</td>\n",
       "      <td>2</td>\n",
       "      <td>2</td>\n",
       "      <td>small</td>\n",
       "      <td>med</td>\n",
       "      <td>unacc</td>\n",
       "    </tr>\n",
       "    <tr>\n",
       "      <th>1</th>\n",
       "      <td>vhigh</td>\n",
       "      <td>vhigh</td>\n",
       "      <td>2</td>\n",
       "      <td>2</td>\n",
       "      <td>small</td>\n",
       "      <td>high</td>\n",
       "      <td>unacc</td>\n",
       "    </tr>\n",
       "    <tr>\n",
       "      <th>2</th>\n",
       "      <td>vhigh</td>\n",
       "      <td>vhigh</td>\n",
       "      <td>2</td>\n",
       "      <td>2</td>\n",
       "      <td>med</td>\n",
       "      <td>low</td>\n",
       "      <td>unacc</td>\n",
       "    </tr>\n",
       "    <tr>\n",
       "      <th>3</th>\n",
       "      <td>vhigh</td>\n",
       "      <td>vhigh</td>\n",
       "      <td>2</td>\n",
       "      <td>2</td>\n",
       "      <td>med</td>\n",
       "      <td>med</td>\n",
       "      <td>unacc</td>\n",
       "    </tr>\n",
       "    <tr>\n",
       "      <th>4</th>\n",
       "      <td>vhigh</td>\n",
       "      <td>vhigh</td>\n",
       "      <td>2</td>\n",
       "      <td>2</td>\n",
       "      <td>med</td>\n",
       "      <td>high</td>\n",
       "      <td>unacc</td>\n",
       "    </tr>\n",
       "  </tbody>\n",
       "</table>\n",
       "</div>"
      ],
      "text/plain": [
       "  buying price maintenance cost number of doors number of persons car_boot  \\\n",
       "0        vhigh            vhigh               2                 2    small   \n",
       "1        vhigh            vhigh               2                 2    small   \n",
       "2        vhigh            vhigh               2                 2      med   \n",
       "3        vhigh            vhigh               2                 2      med   \n",
       "4        vhigh            vhigh               2                 2      med   \n",
       "\n",
       "  safety decision  \n",
       "0    med    unacc  \n",
       "1   high    unacc  \n",
       "2    low    unacc  \n",
       "3    med    unacc  \n",
       "4   high    unacc  "
      ]
     },
     "execution_count": 17,
     "metadata": {},
     "output_type": "execute_result"
    }
   ],
   "source": [
    "df.head(5)"
   ]
  },
  {
   "cell_type": "code",
   "execution_count": 18,
   "id": "bd2ba261",
   "metadata": {},
   "outputs": [
    {
     "data": {
      "text/html": [
       "<div>\n",
       "<style scoped>\n",
       "    .dataframe tbody tr th:only-of-type {\n",
       "        vertical-align: middle;\n",
       "    }\n",
       "\n",
       "    .dataframe tbody tr th {\n",
       "        vertical-align: top;\n",
       "    }\n",
       "\n",
       "    .dataframe thead th {\n",
       "        text-align: right;\n",
       "    }\n",
       "</style>\n",
       "<table border=\"1\" class=\"dataframe\">\n",
       "  <thead>\n",
       "    <tr style=\"text-align: right;\">\n",
       "      <th></th>\n",
       "      <th>buying price</th>\n",
       "      <th>maintenance cost</th>\n",
       "      <th>number of doors</th>\n",
       "      <th>number of persons</th>\n",
       "      <th>car_boot</th>\n",
       "      <th>safety</th>\n",
       "      <th>decision</th>\n",
       "    </tr>\n",
       "  </thead>\n",
       "  <tbody>\n",
       "    <tr>\n",
       "      <th>count</th>\n",
       "      <td>1727</td>\n",
       "      <td>1727</td>\n",
       "      <td>1727</td>\n",
       "      <td>1727</td>\n",
       "      <td>1727</td>\n",
       "      <td>1727</td>\n",
       "      <td>1727</td>\n",
       "    </tr>\n",
       "    <tr>\n",
       "      <th>unique</th>\n",
       "      <td>4</td>\n",
       "      <td>4</td>\n",
       "      <td>4</td>\n",
       "      <td>3</td>\n",
       "      <td>3</td>\n",
       "      <td>3</td>\n",
       "      <td>4</td>\n",
       "    </tr>\n",
       "    <tr>\n",
       "      <th>top</th>\n",
       "      <td>low</td>\n",
       "      <td>low</td>\n",
       "      <td>5more</td>\n",
       "      <td>4</td>\n",
       "      <td>med</td>\n",
       "      <td>med</td>\n",
       "      <td>unacc</td>\n",
       "    </tr>\n",
       "    <tr>\n",
       "      <th>freq</th>\n",
       "      <td>432</td>\n",
       "      <td>432</td>\n",
       "      <td>432</td>\n",
       "      <td>576</td>\n",
       "      <td>576</td>\n",
       "      <td>576</td>\n",
       "      <td>1209</td>\n",
       "    </tr>\n",
       "  </tbody>\n",
       "</table>\n",
       "</div>"
      ],
      "text/plain": [
       "       buying price maintenance cost number of doors number of persons  \\\n",
       "count          1727             1727            1727              1727   \n",
       "unique            4                4               4                 3   \n",
       "top             low              low           5more                 4   \n",
       "freq            432              432             432               576   \n",
       "\n",
       "       car_boot safety decision  \n",
       "count      1727   1727     1727  \n",
       "unique        3      3        4  \n",
       "top         med    med    unacc  \n",
       "freq        576    576     1209  "
      ]
     },
     "execution_count": 18,
     "metadata": {},
     "output_type": "execute_result"
    }
   ],
   "source": [
    "df.describe()"
   ]
  },
  {
   "cell_type": "markdown",
   "id": "43d44dff",
   "metadata": {},
   "source": [
    "## Explicação, Limpeza e Tratamento dos Dados"
   ]
  },
  {
   "cell_type": "markdown",
   "id": "dafd5841",
   "metadata": {},
   "source": [
    "### Explicação do Dataset"
   ]
  },
  {
   "cell_type": "markdown",
   "id": "c26bdbc8",
   "metadata": {},
   "source": [
    "O dataset escolhido revela aspectos para avaliação da qualidade dos carros inspecionados, como número de pessoas, preço de custo, segurança, custo de manutenção et cetera. Nesse projeto, nosso objetivo é elaborar um modelo de *Random Forest* para predizer se o carro tem qualidade (*accurate*) ou não tem qualidade (*unaccurate*)"
   ]
  },
  {
   "cell_type": "markdown",
   "id": "88344757",
   "metadata": {},
   "source": [
    "### Limpeza e Tratamento"
   ]
  },
  {
   "cell_type": "markdown",
   "id": "f6e4cf50",
   "metadata": {},
   "source": [
    "Como foi possível notar pelo df.describe(), não há valores faltantes, logo isso não será um problema para nossa modelagem. Além disso, todas as variáveis são qualitativas, apropriadas para a criação de algoritmos de classificação. Sendo assim, só precisaremos fazer dois ajustes:\n",
    "1. A nossa variável-objetivo (*decision*) tem 4 valores possíveis: *unaccurate*,*accurate*,*good* e *very good*. Como só desejamos saber se o carro tem ou não qualidade, agruparemos *good* e *very good* junto a *accurate*.\n",
    "2. Precisamos fazer o label encoding (transformar os valores categóricos em números), para que seja possível a modelagem do algoritmo de *Random Forest*"
   ]
  },
  {
   "cell_type": "code",
   "execution_count": 19,
   "id": "5fa085c3",
   "metadata": {},
   "outputs": [],
   "source": [
    "#Agrupando good e very good com accurate\n",
    "df = df.replace(to_replace=[\"good\",\"vgood\"],\n",
    "           value=\"acc\")"
   ]
  },
  {
   "cell_type": "code",
   "execution_count": 22,
   "id": "ad6edd7c",
   "metadata": {},
   "outputs": [],
   "source": [
    "#Transformar valores categóricos em números\n",
    "from sklearn import preprocessing  \n",
    "label_encoder = preprocessing.LabelEncoder()  \n",
    "df['buying price'] = label_encoder.fit_transform(df['buying price'])\n",
    "df['maintenance cost'] = label_encoder.fit_transform(df['maintenance cost'])\n",
    "df['number of doors'] = label_encoder.fit_transform(df['number of doors'])\n",
    "df['number of persons'] = label_encoder.fit_transform(df['number of persons'])\n",
    "df['car_boot'] = label_encoder.fit_transform(df['car_boot'])\n",
    "df['safety'] = label_encoder.fit_transform(df['safety'])\n",
    "df['decision'] = label_encoder.fit_transform(df['decision'])"
   ]
  },
  {
   "cell_type": "markdown",
   "id": "8512fd1b",
   "metadata": {},
   "source": [
    "## Explicação do Algoritmo: Random Forest"
   ]
  },
  {
   "cell_type": "markdown",
   "id": "60ac043e",
   "metadata": {},
   "source": [
    "Em um primeiro momento, é fundamental esclarecer que o *Random Forest* surge como base no algoritmo de Árvores de Decisão, visando a criação de um modelo mais robusto que o primeiro. Para tanto, o modelo tem como principal ferramenta a aleatoriedade de suas escolhas, como veremos no passo-a-passo:\n",
    "1. Criar várias árvores de decisão, cada qual com o mesmo tamanho de amostra, mas as amostras são obtidas aleatoriamente, de modo que a amostra da primeira árvore pode ser distinta à amostra da segunda árvore - chamamos essa técnica de *bagging (bootstrapp aggregation)*\n",
    "2. Fazendo uso novamente da aleatoriedade, sortear um número específico de features para cada árvore de decisão - a ideia aqui é randomizar a escolha das features para diminuir a correlação entre as árvores de decisão do modelo\n",
    "3. Para cada árvore, realizar o procedimento padrão do algoritmo de árvores de decisão. Feito isso, contabilizar os votos respectivos a cada nó, e obter os resultados com base na média dos resultados individuais das árvores de decisão."
   ]
  }
 ],
 "metadata": {
  "kernelspec": {
   "display_name": "Python 3",
   "language": "python",
   "name": "python3"
  },
  "language_info": {
   "codemirror_mode": {
    "name": "ipython",
    "version": 3
   },
   "file_extension": ".py",
   "mimetype": "text/x-python",
   "name": "python",
   "nbconvert_exporter": "python",
   "pygments_lexer": "ipython3",
   "version": "3.8.8"
  }
 },
 "nbformat": 4,
 "nbformat_minor": 5
}
